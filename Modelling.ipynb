{
 "cells": [
  {
   "cell_type": "markdown",
   "id": "67fab1ec-b572-40b3-9e6b-200fb6245a73",
   "metadata": {},
   "source": [
    "### ______________________________________________________________________________"
   ]
  },
  {
   "cell_type": "markdown",
   "id": "9f7da476-532a-421c-91a9-f68d27c0efd3",
   "metadata": {},
   "source": [
    "<div style=\"width:100%;text-align: right;\">\n",
    "    <img src=\"ensae.png\" /> </div>\n",
    "<div style=\"width:100%;text-align: center;\">\n",
    "   <br>\n",
    "    <strong style=\"font-size:20px;\">Projet de Machine Learning</strong>\n",
    "    <br>\n",
    "    <br>\n",
    "    ***************\n",
    "    <br>\n",
    "</div>\n",
    "\n",
    "<div style=\"width:100%;text-align: center;\">\n",
    "    <img src=\"seattle_image.png\" style=\"width:35%;height:100%;\" /> <br>\n",
    "    <span style=\"font-size:20px;\">SEA Building Energy Benchmarking : Prediction of Building Energy <br><strong>Partie Modélisation</strong></span>\n",
    "</div>"
   ]
  },
  {
   "cell_type": "markdown",
   "id": "832dfa74-0201-4e9a-b9b3-8aec2fc7f2b0",
   "metadata": {},
   "source": [
    "### ______________________________________________________________________________"
   ]
  },
  {
   "cell_type": "markdown",
   "id": "eeddbc64-9f8c-428f-9541-099dba927483",
   "metadata": {},
   "source": [
    "Cette partie du projet est dédiée à la modélisation en tant que telle. Pour voir le Pré-traitement <a href=\"Preprocessing.ipynb\" target=\"_blank\">Cliquer ici</a>"
   ]
  },
  {
   "cell_type": "markdown",
   "id": "8e42b6f8-9202-49a4-8f40-0c684c41fea8",
   "metadata": {},
   "source": [
    "## Sommaire du document"
   ]
  },
  {
   "cell_type": "code",
   "execution_count": 4,
   "id": "978a7c26-b250-4864-a746-c8dbe3a4a84f",
   "metadata": {},
   "outputs": [],
   "source": [
    "##Sommaire à remplir"
   ]
  },
  {
   "cell_type": "code",
   "execution_count": 71,
   "id": "cf545a69-b2f9-4d5c-96e9-600be9b1642b",
   "metadata": {},
   "outputs": [
    {
     "name": "stdout",
     "output_type": "stream",
     "text": [
      "Requirement already satisfied: statsmodels in c:\\users\\hp\\anaconda3\\lib\\site-packages (0.13.5)\n",
      "Requirement already satisfied: packaging>=21.3 in c:\\users\\hp\\anaconda3\\lib\\site-packages (from statsmodels) (22.0)\n",
      "Requirement already satisfied: scipy>=1.3 in c:\\users\\hp\\anaconda3\\lib\\site-packages (from statsmodels) (1.8.1)\n",
      "Requirement already satisfied: numpy>=1.17 in c:\\users\\hp\\anaconda3\\lib\\site-packages (from statsmodels) (1.20.1)\n",
      "Requirement already satisfied: pandas>=0.25 in c:\\users\\hp\\anaconda3\\lib\\site-packages (from statsmodels) (1.2.4)\n",
      "Requirement already satisfied: patsy>=0.5.2 in c:\\users\\hp\\anaconda3\\lib\\site-packages (from statsmodels) (0.5.3)\n",
      "Requirement already satisfied: python-dateutil>=2.7.3 in c:\\users\\hp\\anaconda3\\lib\\site-packages (from pandas>=0.25->statsmodels) (2.8.1)\n",
      "Requirement already satisfied: pytz>=2017.3 in c:\\users\\hp\\anaconda3\\lib\\site-packages (from pandas>=0.25->statsmodels) (2021.1)\n",
      "Requirement already satisfied: six in c:\\users\\hp\\anaconda3\\lib\\site-packages (from patsy>=0.5.2->statsmodels) (1.15.0)\n"
     ]
    }
   ],
   "source": [
    "!pip install statsmodels"
   ]
  },
  {
   "cell_type": "code",
   "execution_count": null,
   "id": "d03106e7-8d54-4a10-abd4-617e8450d3fa",
   "metadata": {},
   "outputs": [],
   "source": [
    "## Importation des packages\n",
    "import numpy as np\n",
    "import pandas as pd\n",
    "import seaborn as sns\n",
    "import matplotlib.pyplot as plt\n",
    "from sklearn import set_config\n",
    "from sklearn.svm import SVR\n",
    "from sklearn.preprocessing import *\n",
    "from sklearn.metrics import *\n",
    "from sklearn.ensemble import RandomForestRegressor\n",
    "from xgboost import XGBRegressor\n",
    "from sklearn.compose import ColumnTransformer, make_column_selector, make_column_transformer\n",
    "from sklearn.linear_model import LinearRegression, Ridge, RidgeCV, Lasso, ElasticNet, SGDRegressor\n",
    "from sklearn.model_selection import train_test_split, GridSearchCV, cross_validate\n",
    "from sklearn.pipeline import make_pipeline, Pipeline\n",
    "from scipy.stats import *\n",
    "import statsmodels.stats.diagnostic as smsd\n",
    "import matplotlib.pyplot as plt"
   ]
  },
  {
   "cell_type": "markdown",
   "id": "db27f56f-2d1b-4072-b932-642af04dec67",
   "metadata": {},
   "source": [
    "#### Importation de la base traitée"
   ]
  },
  {
   "cell_type": "code",
   "execution_count": 142,
   "id": "b8b93d9a-8e48-411e-9ea4-0788ca0baabb",
   "metadata": {},
   "outputs": [],
   "source": [
    "CleanedData=pd.read_csv(\"Clean_Data.csv\")"
   ]
  },
  {
   "cell_type": "code",
   "execution_count": 143,
   "id": "36e8f826-2fe7-4dc8-b10a-68ce7402fbd5",
   "metadata": {},
   "outputs": [
    {
     "name": "stdout",
     "output_type": "stream",
     "text": [
      "<class 'pandas.core.frame.DataFrame'>\n",
      "RangeIndex: 7209 entries, 0 to 7208\n",
      "Data columns (total 50 columns):\n",
      " #   Column                                    Non-Null Count  Dtype  \n",
      "---  ------                                    --------------  -----  \n",
      " 0   OSEBuildingID                             7209 non-null   float64\n",
      " 1   DataYear                                  7209 non-null   float64\n",
      " 2   NumberofFloors                            7209 non-null   float64\n",
      " 3   PropertyGFABuilding(s)                    7209 non-null   float64\n",
      " 4   PropertyGFAParking                        7209 non-null   float64\n",
      " 5   ENERGYSTARScore                           7209 non-null   float64\n",
      " 6   SiteEUI(kBtu/sf)                          7209 non-null   float64\n",
      " 7   SiteEnergyUseWN(kBtu)                     7209 non-null   float64\n",
      " 8   SourceEUI(kBtu/sf)                        7209 non-null   float64\n",
      " 9   LargestPropertyUseTypeGFA                 7209 non-null   float64\n",
      " 10  Electricity(kBtu)                         7209 non-null   float64\n",
      " 11  NaturalGas(kBtu)                          7209 non-null   float64\n",
      " 12  GHGEmissionsIntensity                     7209 non-null   float64\n",
      " 13  OHE_Campus                                7209 non-null   int64  \n",
      " 14  OHE_Multifamily                           7209 non-null   int64  \n",
      " 15  OHE_NonResidential                        7209 non-null   int64  \n",
      " 16  OHE_SPS-District K-12                     7209 non-null   int64  \n",
      " 17  OHE_Autres_Neighborhood                   7209 non-null   int64  \n",
      " 18  OHE_BALLARD                               7209 non-null   int64  \n",
      " 19  OHE_CENTRAL                               7209 non-null   int64  \n",
      " 20  OHE_DELRIDGE NEIGHBORHOODS                7209 non-null   int64  \n",
      " 21  OHE_DOWNTOWN                              7209 non-null   int64  \n",
      " 22  OHE_EAST                                  7209 non-null   int64  \n",
      " 23  OHE_GREATER DUWAMISH                      7209 non-null   int64  \n",
      " 24  OHE_LAKE UNION                            7209 non-null   int64  \n",
      " 25  OHE_MAGNOLIA / QUEEN ANNE                 7209 non-null   int64  \n",
      " 26  OHE_NORTH                                 7209 non-null   int64  \n",
      " 27  OHE_NORTHEAST                             7209 non-null   int64  \n",
      " 28  OHE_NORTHWEST                             7209 non-null   int64  \n",
      " 29  OHE_SOUTHEAST                             7209 non-null   int64  \n",
      " 30  OHE_SOUTHWEST                             7209 non-null   int64  \n",
      " 31  OHE_Autres_LargestPropertyUseType         7209 non-null   int64  \n",
      " 32  OHE_Distribution Center                   7209 non-null   int64  \n",
      " 33  OHE_Hotel                                 7209 non-null   int64  \n",
      " 34  OHE_K-12 School                           7209 non-null   int64  \n",
      " 35  OHE_Multifamily Housing                   7209 non-null   int64  \n",
      " 36  OHE_Non-Refrigerated Warehouse            7209 non-null   int64  \n",
      " 37  OHE_Office                                7209 non-null   int64  \n",
      " 38  OHE_Other                                 7209 non-null   int64  \n",
      " 39  OHE_Retail Store                          7209 non-null   int64  \n",
      " 40  OHE_Worship Facility                      7209 non-null   int64  \n",
      " 41  OHE_Autres_ComplianceStatus               7209 non-null   int64  \n",
      " 42  OHE_Compliant                             7209 non-null   int64  \n",
      " 43  OHE_Not Compliant                         7209 non-null   int64  \n",
      " 44  OHE_Account Requires Verification         7209 non-null   int64  \n",
      " 45  OHE_Autres_ComplianceIssue                7209 non-null   int64  \n",
      " 46  OHE_No Issue                              7209 non-null   int64  \n",
      " 47  OHE_Portfolio Manager Account Not Shared  7209 non-null   int64  \n",
      " 48  TotalGHGEmissions                         7209 non-null   float64\n",
      " 49  SiteEnergyUse(kBtu)                       7209 non-null   float64\n",
      "dtypes: float64(15), int64(35)\n",
      "memory usage: 2.8 MB\n"
     ]
    }
   ],
   "source": [
    "CleanedData.info()"
   ]
  },
  {
   "cell_type": "markdown",
   "id": "25b2e513-ea88-40f9-a89d-a1a446d28d44",
   "metadata": {},
   "source": [
    "Nous rappelons que nos variables targets sont les suivantes:\n",
    "\n",
    "     1 - TotalGHGEmissions \n",
    "     2 - SiteEnergyUse(kBtu)"
   ]
  },
  {
   "cell_type": "code",
   "execution_count": 132,
   "id": "3e2d8c45-16d6-4af3-a151-8c3449d38b13",
   "metadata": {},
   "outputs": [],
   "source": [
    "#### Suppression de quelques variables\n",
    "var=['OSEBuildingID','ENERGYSTARScore','DataYear']\n",
    "CleanedData.drop(var,inplace=True, axis=1)"
   ]
  },
  {
   "cell_type": "markdown",
   "id": "436cafa3-6c17-41ba-804f-de317f940b6b",
   "metadata": {},
   "source": [
    "### Normalité de nos variables cibles"
   ]
  },
  {
   "cell_type": "markdown",
   "id": "4d5715fc-f907-4382-8143-619d5080bd92",
   "metadata": {},
   "source": [
    "Nos variables cibles, sont-elles normales?"
   ]
  },
  {
   "cell_type": "code",
   "execution_count": 133,
   "id": "ad56c5cb-2ff7-4af8-9ccd-5cac71a72df4",
   "metadata": {},
   "outputs": [
    {
     "name": "stdout",
     "output_type": "stream",
     "text": [
      "La distribution de la variable TotalGHGEmissions n'est pas normale\n",
      "La distribution de la variable SiteEnergyUse(kBtu) n'est pas normale\n"
     ]
    }
   ],
   "source": [
    "for i in Y.columns:\n",
    "    statistic, p_value = normaltest(Y[i])\n",
    "    if p_value<0.05:\n",
    "        print(\"La distribution de la variable \"+i+\" n'est pas normale\")\n",
    "    else:\n",
    "        print(\"La distribution de la variable \"+i+\" est normale\")"
   ]
  },
  {
   "cell_type": "markdown",
   "id": "8b24614a-b0cb-4653-8a9a-93a9640d555c",
   "metadata": {
    "tags": []
   },
   "source": [
    "### Que donnerait passage à l'échelle logarithmique sur les distributions des variables targets ?"
   ]
  },
  {
   "cell_type": "code",
   "execution_count": 144,
   "id": "2ab0abe8-a08e-49e1-bd2f-bb00262ef7c5",
   "metadata": {},
   "outputs": [
    {
     "data": {
      "image/png": "[encoded data removed]",
      "text/plain": [
       "<Figure size 432x288 with 2 Axes>"
      ]
     },
     "metadata": {
      "needs_background": "light"
     },
     "output_type": "display_data"
    }
   ],
   "source": [
    "logtransformer = FunctionTransformer(np.log, inverse_func = np.exp, check_inverse = True)\n",
    "Y_log = logtransformer.transform(Y)\n",
    "Y_log.hist(bins=20, density=True, alpha=0.6, color='b')  \n",
    "plt.show()"
   ]
  },
  {
   "cell_type": "code",
   "execution_count": 127,
   "id": "270f0b86-3ff9-44c8-9648-dd303be53baf",
   "metadata": {},
   "outputs": [
    {
     "data": {
      "image/png": "[encoded data removed]",
      "text/plain": [
       "<Figure size 1080x288 with 2 Axes>"
      ]
     },
     "metadata": {
      "needs_background": "light"
     },
     "output_type": "display_data"
    },
    {
     "data": {
      "image/png": "[encoded data removed]",
      "text/plain": [
       "<Figure size 1080x288 with 2 Axes>"
      ]
     },
     "metadata": {
      "needs_background": "light"
     },
     "output_type": "display_data"
    }
   ],
   "source": [
    "for i in Y.columns:\n",
    "    fig, axes = plt.subplots(nrows=1, ncols=2, figsize=(15, 4))\n",
    "\n",
    "    sns.histplot(Y[i], color='r', kde=True, ax=axes[0])\n",
    "    axes[0].set_title('Distribution de '+i)\n",
    "\n",
    "    log_y = np.log(Y[i])\n",
    "    sns.histplot(log_y, color='b', kde=True, ax=axes[1])\n",
    "    axes[1].set_title('Distribution de '+i+' appliquée à la fonction logarithme')\n",
    "    axes[1].set_xscale('log');"
   ]
  },
  {
   "cell_type": "markdown",
   "id": "98b1fb5b-0e42-486c-99f0-10d46a6de7ed",
   "metadata": {},
   "source": [
    "L'application de la fonction s'approche de la normale mais elle ne le sont toujours pas."
   ]
  },
  {
   "cell_type": "code",
   "execution_count": 145,
   "id": "5185be74-2461-4956-8a8a-bec8f42ec2cf",
   "metadata": {},
   "outputs": [],
   "source": [
    "target= CleanedData[['TotalGHGEmissions','SiteEnergyUse(kBtu)']]"
   ]
  },
  {
   "cell_type": "code",
   "execution_count": 146,
   "id": "4c42ce09-03a5-454c-b72b-02f63853611d",
   "metadata": {
    "tags": []
   },
   "outputs": [],
   "source": [
    "min_values = np.min(target, axis = 0)\n",
    "max_values = np.max(target, axis = 0)\n",
    "\n",
    "target_normalized = (target - min_values)/(max_values - min_values)"
   ]
  },
  {
   "cell_type": "code",
   "execution_count": 147,
   "id": "e4edcf6e-c983-4245-9287-b188d1f2de92",
   "metadata": {},
   "outputs": [
    {
     "data": {
      "image/png": "[encoded data removed]",
      "text/plain": [
       "<Figure size 1080x288 with 1 Axes>"
      ]
     },
     "metadata": {
      "needs_background": "light"
     },
     "output_type": "display_data"
    },
    {
     "data": {
      "image/png": "[encoded data removed]",
      "text/plain": [
       "<Figure size 1080x288 with 1 Axes>"
      ]
     },
     "metadata": {
      "needs_background": "light"
     },
     "output_type": "display_data"
    }
   ],
   "source": [
    "for i in target_normalized.columns:\n",
    "    fig, axes = plt.subplots(nrows=1, ncols=1, figsize=(15, 4))\n",
    "    sns.histplot(target_normalized[i], color='r', kde=True, ax=axes)\n",
    "    axes.set_title('Distribution de '+i)\n",
    "    if i=='TotalGHGEmissions':\n",
    "        b=300\n",
    "    else:\n",
    "        b=400\n",
    "    plt.xlim(0,0.1)\n",
    "    plt.ylim(0,b)"
   ]
  },
  {
   "cell_type": "markdown",
   "id": "2f944ce2-a13b-4adf-90a8-7d4ac62ed9fe",
   "metadata": {},
   "source": [
    "La normalisation avec la méthode du **min-max** donne également une distribution qui n'est pas normale. Nous allons à présent continuer avec la distribution obtenue en appliquant le log."
   ]
  },
  {
   "cell_type": "markdown",
   "id": "45122c84-3559-42e3-aa76-51d1ca0ed245",
   "metadata": {},
   "source": [
    "## Préparation des jeux d'entrainement et de test\n",
    "Afin de tester notre meilleur modèle sur des données \"inconnues\", nous allons subdiviser (split) notre jeu de données en deux parties pour obtenir un jeu d'entrainement et un jeu de test (20% des données)"
   ]
  },
  {
   "cell_type": "code",
   "execution_count": 148,
   "id": "d5486be1-48b4-4d62-8b0e-15dbe97a5d8c",
   "metadata": {
    "tags": []
   },
   "outputs": [
    {
     "name": "stdout",
     "output_type": "stream",
     "text": [
      "Entrainement: 5767 lignes,\n",
      "Test: 1442 lignes.\n",
      "\n"
     ]
    }
   ],
   "source": [
    "Y = CleanedData[['TotalGHGEmissions','SiteEnergyUse(kBtu)']]\n",
    "log_y=np.log(Y)\n",
    "X = CleanedData.drop(['TotalGHGEmissions','SiteEnergyUse(kBtu)'], axis=1)\n",
    "X_train, X_test, Y_train, Y_test = train_test_split(X, log_y, test_size=0.2, random_state=42)\n",
    "\n",
    "print(\"Entrainement: {} lignes,\\nTest: {} lignes.\\n\".format(X_train.shape[0],\n",
    "                                                            X_test.shape[0]))"
   ]
  },
  {
   "cell_type": "code",
   "execution_count": 149,
   "id": "5b7dcbf6-b1bb-4bec-b029-b0acfb4b6417",
   "metadata": {},
   "outputs": [
    {
     "data": {
      "text/plain": [
       "Index(['TotalGHGEmissions', 'SiteEnergyUse(kBtu)'], dtype='object')"
      ]
     },
     "execution_count": 149,
     "metadata": {},
     "output_type": "execute_result"
    }
   ],
   "source": [
    "log_y.columns"
   ]
  },
  {
   "cell_type": "code",
   "execution_count": 150,
   "id": "27f021ad-b20e-4f7e-99cc-22a9a08c00a6",
   "metadata": {},
   "outputs": [
    {
     "data": {
      "text/plain": [
       "Index(['OSEBuildingID', 'DataYear', 'NumberofFloors', 'PropertyGFABuilding(s)',\n",
       "       'PropertyGFAParking', 'ENERGYSTARScore', 'SiteEUI(kBtu/sf)',\n",
       "       'SiteEnergyUseWN(kBtu)', 'SourceEUI(kBtu/sf)',\n",
       "       'LargestPropertyUseTypeGFA', 'Electricity(kBtu)', 'NaturalGas(kBtu)',\n",
       "       'GHGEmissionsIntensity', 'OHE_Campus', 'OHE_Multifamily',\n",
       "       'OHE_NonResidential', 'OHE_SPS-District K-12',\n",
       "       'OHE_Autres_Neighborhood', 'OHE_BALLARD', 'OHE_CENTRAL',\n",
       "       'OHE_DELRIDGE NEIGHBORHOODS', 'OHE_DOWNTOWN', 'OHE_EAST',\n",
       "       'OHE_GREATER DUWAMISH', 'OHE_LAKE UNION', 'OHE_MAGNOLIA / QUEEN ANNE',\n",
       "       'OHE_NORTH', 'OHE_NORTHEAST', 'OHE_NORTHWEST', 'OHE_SOUTHEAST',\n",
       "       'OHE_SOUTHWEST', 'OHE_Autres_LargestPropertyUseType',\n",
       "       'OHE_Distribution Center', 'OHE_Hotel', 'OHE_K-12 School',\n",
       "       'OHE_Multifamily Housing', 'OHE_Non-Refrigerated Warehouse',\n",
       "       'OHE_Office', 'OHE_Other', 'OHE_Retail Store', 'OHE_Worship Facility',\n",
       "       'OHE_Autres_ComplianceStatus', 'OHE_Compliant', 'OHE_Not Compliant',\n",
       "       'OHE_Account Requires Verification', 'OHE_Autres_ComplianceIssue',\n",
       "       'OHE_No Issue', 'OHE_Portfolio Manager Account Not Shared'],\n",
       "      dtype='object')"
      ]
     },
     "execution_count": 150,
     "metadata": {},
     "output_type": "execute_result"
    }
   ],
   "source": [
    "X.columns"
   ]
  },
  {
   "cell_type": "code",
   "execution_count": 151,
   "id": "71d71549-ba37-45cd-aca8-34fab11c0791",
   "metadata": {},
   "outputs": [
    {
     "data": {
      "text/plain": [
       "min        0.1\n",
       "max    11031.5\n",
       "Name: TotalGHGEmissions, dtype: float64"
      ]
     },
     "execution_count": 151,
     "metadata": {},
     "output_type": "execute_result"
    }
   ],
   "source": [
    "Y.TotalGHGEmissions.agg([min,max])"
   ]
  },
  {
   "cell_type": "code",
   "execution_count": 152,
   "id": "22db1bff-1b63-4d32-87fa-aa8ef3c210c0",
   "metadata": {},
   "outputs": [],
   "source": [
    "preprocessor = make_column_transformer((StandardScaler(),X.columns))"
   ]
  },
  {
   "cell_type": "code",
   "execution_count": 153,
   "id": "bd2b246e-5cf8-4735-9d9c-77280395a64c",
   "metadata": {},
   "outputs": [
    {
     "data": {
      "text/html": [
       "<style>#sk-container-id-12 {color: black;background-color: white;}#sk-container-id-12 pre{padding: 0;}#sk-container-id-12 div.sk-toggleable {background-color: white;}#sk-container-id-12 label.sk-toggleable__label {cursor: pointer;display: block;width: 100%;margin-bottom: 0;padding: 0.3em;box-sizing: border-box;text-align: center;}#sk-container-id-12 label.sk-toggleable__label-arrow:before {content: \"▸\";float: left;margin-right: 0.25em;color: #696969;}#sk-container-id-12 label.sk-toggleable__label-arrow:hover:before {color: black;}#sk-container-id-12 div.sk-estimator:hover label.sk-toggleable__label-arrow:before {color: black;}#sk-container-id-12 div.sk-toggleable__content {max-height: 0;max-width: 0;overflow: hidden;text-align: left;background-color: #f0f8ff;}#sk-container-id-12 div.sk-toggleable__content pre {margin: 0.2em;color: black;border-radius: 0.25em;background-color: #f0f8ff;}#sk-container-id-12 input.sk-toggleable__control:checked~div.sk-toggleable__content {max-height: 200px;max-width: 100%;overflow: auto;}#sk-container-id-12 input.sk-toggleable__control:checked~label.sk-toggleable__label-arrow:before {content: \"▾\";}#sk-container-id-12 div.sk-estimator input.sk-toggleable__control:checked~label.sk-toggleable__label {background-color: #d4ebff;}#sk-container-id-12 div.sk-label input.sk-toggleable__control:checked~label.sk-toggleable__label {background-color: #d4ebff;}#sk-container-id-12 input.sk-hidden--visually {border: 0;clip: rect(1px 1px 1px 1px);clip: rect(1px, 1px, 1px, 1px);height: 1px;margin: -1px;overflow: hidden;padding: 0;position: absolute;width: 1px;}#sk-container-id-12 div.sk-estimator {font-family: monospace;background-color: #f0f8ff;border: 1px dotted black;border-radius: 0.25em;box-sizing: border-box;margin-bottom: 0.5em;}#sk-container-id-12 div.sk-estimator:hover {background-color: #d4ebff;}#sk-container-id-12 div.sk-parallel-item::after {content: \"\";width: 100%;border-bottom: 1px solid gray;flex-grow: 1;}#sk-container-id-12 div.sk-label:hover label.sk-toggleable__label {background-color: #d4ebff;}#sk-container-id-12 div.sk-serial::before {content: \"\";position: absolute;border-left: 1px solid gray;box-sizing: border-box;top: 0;bottom: 0;left: 50%;z-index: 0;}#sk-container-id-12 div.sk-serial {display: flex;flex-direction: column;align-items: center;background-color: white;padding-right: 0.2em;padding-left: 0.2em;position: relative;}#sk-container-id-12 div.sk-item {position: relative;z-index: 1;}#sk-container-id-12 div.sk-parallel {display: flex;align-items: stretch;justify-content: center;background-color: white;position: relative;}#sk-container-id-12 div.sk-item::before, #sk-container-id-12 div.sk-parallel-item::before {content: \"\";position: absolute;border-left: 1px solid gray;box-sizing: border-box;top: 0;bottom: 0;left: 50%;z-index: -1;}#sk-container-id-12 div.sk-parallel-item {display: flex;flex-direction: column;z-index: 1;position: relative;background-color: white;}#sk-container-id-12 div.sk-parallel-item:first-child::after {align-self: flex-end;width: 50%;}#sk-container-id-12 div.sk-parallel-item:last-child::after {align-self: flex-start;width: 50%;}#sk-container-id-12 div.sk-parallel-item:only-child::after {width: 0;}#sk-container-id-12 div.sk-dashed-wrapped {border: 1px dashed gray;margin: 0 0.4em 0.5em 0.4em;box-sizing: border-box;padding-bottom: 0.4em;background-color: white;}#sk-container-id-12 div.sk-label label {font-family: monospace;font-weight: bold;display: inline-block;line-height: 1.2em;}#sk-container-id-12 div.sk-label-container {text-align: center;}#sk-container-id-12 div.sk-container {/* jupyter's `normalize.less` sets `[hidden] { display: none; }` but bootstrap.min.css set `[hidden] { display: none !important; }` so we also need the `!important` here to be able to override the default hidden behavior on the sphinx rendered scikit-learn.org. See: https://github.com/scikit-learn/scikit-learn/issues/21755 */display: inline-block !important;position: relative;}#sk-container-id-12 div.sk-text-repr-fallback {display: none;}</style><div id=\"sk-container-id-12\" class=\"sk-top-container\"><div class=\"sk-text-repr-fallback\"><pre>ColumnTransformer(transformers=[(&#x27;standardscaler&#x27;, StandardScaler(),\n",
       "                                 Index([&#x27;OSEBuildingID&#x27;, &#x27;DataYear&#x27;, &#x27;NumberofFloors&#x27;, &#x27;PropertyGFABuilding(s)&#x27;,\n",
       "       &#x27;PropertyGFAParking&#x27;, &#x27;ENERGYSTARScore&#x27;, &#x27;SiteEUI(kBtu/sf)&#x27;,\n",
       "       &#x27;SiteEnergyUseWN(kBtu)&#x27;, &#x27;SourceEUI(kBtu/sf)&#x27;,\n",
       "       &#x27;LargestPropertyUseTypeGFA&#x27;, &#x27;Electricity(kBtu)&#x27;, &#x27;NaturalGas(kBtu)&#x27;,\n",
       "       &#x27;GHGEmissionsIntensity&#x27;, &#x27;OHE_Campus&#x27;,...\n",
       "       &#x27;OHE_Distribution Center&#x27;, &#x27;OHE_Hotel&#x27;, &#x27;OHE_K-12 School&#x27;,\n",
       "       &#x27;OHE_Multifamily Housing&#x27;, &#x27;OHE_Non-Refrigerated Warehouse&#x27;,\n",
       "       &#x27;OHE_Office&#x27;, &#x27;OHE_Other&#x27;, &#x27;OHE_Retail Store&#x27;, &#x27;OHE_Worship Facility&#x27;,\n",
       "       &#x27;OHE_Autres_ComplianceStatus&#x27;, &#x27;OHE_Compliant&#x27;, &#x27;OHE_Not Compliant&#x27;,\n",
       "       &#x27;OHE_Account Requires Verification&#x27;, &#x27;OHE_Autres_ComplianceIssue&#x27;,\n",
       "       &#x27;OHE_No Issue&#x27;, &#x27;OHE_Portfolio Manager Account Not Shared&#x27;],\n",
       "      dtype=&#x27;object&#x27;))])</pre><b>In a Jupyter environment, please rerun this cell to show the HTML representation or trust the notebook. <br />On GitHub, the HTML representation is unable to render, please try loading this page with nbviewer.org.</b></div><div class=\"sk-container\" hidden><div class=\"sk-item sk-dashed-wrapped\"><div class=\"sk-label-container\"><div class=\"sk-label sk-toggleable\"><input class=\"sk-toggleable__control sk-hidden--visually\" id=\"sk-estimator-id-40\" type=\"checkbox\" ><label for=\"sk-estimator-id-40\" class=\"sk-toggleable__label sk-toggleable__label-arrow\">ColumnTransformer</label><div class=\"sk-toggleable__content\"><pre>ColumnTransformer(transformers=[(&#x27;standardscaler&#x27;, StandardScaler(),\n",
       "                                 Index([&#x27;OSEBuildingID&#x27;, &#x27;DataYear&#x27;, &#x27;NumberofFloors&#x27;, &#x27;PropertyGFABuilding(s)&#x27;,\n",
       "       &#x27;PropertyGFAParking&#x27;, &#x27;ENERGYSTARScore&#x27;, &#x27;SiteEUI(kBtu/sf)&#x27;,\n",
       "       &#x27;SiteEnergyUseWN(kBtu)&#x27;, &#x27;SourceEUI(kBtu/sf)&#x27;,\n",
       "       &#x27;LargestPropertyUseTypeGFA&#x27;, &#x27;Electricity(kBtu)&#x27;, &#x27;NaturalGas(kBtu)&#x27;,\n",
       "       &#x27;GHGEmissionsIntensity&#x27;, &#x27;OHE_Campus&#x27;,...\n",
       "       &#x27;OHE_Distribution Center&#x27;, &#x27;OHE_Hotel&#x27;, &#x27;OHE_K-12 School&#x27;,\n",
       "       &#x27;OHE_Multifamily Housing&#x27;, &#x27;OHE_Non-Refrigerated Warehouse&#x27;,\n",
       "       &#x27;OHE_Office&#x27;, &#x27;OHE_Other&#x27;, &#x27;OHE_Retail Store&#x27;, &#x27;OHE_Worship Facility&#x27;,\n",
       "       &#x27;OHE_Autres_ComplianceStatus&#x27;, &#x27;OHE_Compliant&#x27;, &#x27;OHE_Not Compliant&#x27;,\n",
       "       &#x27;OHE_Account Requires Verification&#x27;, &#x27;OHE_Autres_ComplianceIssue&#x27;,\n",
       "       &#x27;OHE_No Issue&#x27;, &#x27;OHE_Portfolio Manager Account Not Shared&#x27;],\n",
       "      dtype=&#x27;object&#x27;))])</pre></div></div></div><div class=\"sk-parallel\"><div class=\"sk-parallel-item\"><div class=\"sk-item\"><div class=\"sk-label-container\"><div class=\"sk-label sk-toggleable\"><input class=\"sk-toggleable__control sk-hidden--visually\" id=\"sk-estimator-id-41\" type=\"checkbox\" ><label for=\"sk-estimator-id-41\" class=\"sk-toggleable__label sk-toggleable__label-arrow\">standardscaler</label><div class=\"sk-toggleable__content\"><pre>Index([&#x27;OSEBuildingID&#x27;, &#x27;DataYear&#x27;, &#x27;NumberofFloors&#x27;, &#x27;PropertyGFABuilding(s)&#x27;,\n",
       "       &#x27;PropertyGFAParking&#x27;, &#x27;ENERGYSTARScore&#x27;, &#x27;SiteEUI(kBtu/sf)&#x27;,\n",
       "       &#x27;SiteEnergyUseWN(kBtu)&#x27;, &#x27;SourceEUI(kBtu/sf)&#x27;,\n",
       "       &#x27;LargestPropertyUseTypeGFA&#x27;, &#x27;Electricity(kBtu)&#x27;, &#x27;NaturalGas(kBtu)&#x27;,\n",
       "       &#x27;GHGEmissionsIntensity&#x27;, &#x27;OHE_Campus&#x27;, &#x27;OHE_Multifamily&#x27;,\n",
       "       &#x27;OHE_NonResidential&#x27;, &#x27;OHE_SPS-District K-12&#x27;,\n",
       "       &#x27;OHE_Autres_Neighborhood&#x27;, &#x27;OHE_BALLARD&#x27;, &#x27;OHE_CENTRAL&#x27;,\n",
       "       &#x27;OHE_DELRIDGE NEIGHBORHOODS&#x27;, &#x27;OHE_DOWNTOWN&#x27;, &#x27;OHE_EAST&#x27;,\n",
       "       &#x27;OHE_GREATER DUWAMISH&#x27;, &#x27;OHE_LAKE UNION&#x27;, &#x27;OHE_MAGNOLIA / QUEEN ANNE&#x27;,\n",
       "       &#x27;OHE_NORTH&#x27;, &#x27;OHE_NORTHEAST&#x27;, &#x27;OHE_NORTHWEST&#x27;, &#x27;OHE_SOUTHEAST&#x27;,\n",
       "       &#x27;OHE_SOUTHWEST&#x27;, &#x27;OHE_Autres_LargestPropertyUseType&#x27;,\n",
       "       &#x27;OHE_Distribution Center&#x27;, &#x27;OHE_Hotel&#x27;, &#x27;OHE_K-12 School&#x27;,\n",
       "       &#x27;OHE_Multifamily Housing&#x27;, &#x27;OHE_Non-Refrigerated Warehouse&#x27;,\n",
       "       &#x27;OHE_Office&#x27;, &#x27;OHE_Other&#x27;, &#x27;OHE_Retail Store&#x27;, &#x27;OHE_Worship Facility&#x27;,\n",
       "       &#x27;OHE_Autres_ComplianceStatus&#x27;, &#x27;OHE_Compliant&#x27;, &#x27;OHE_Not Compliant&#x27;,\n",
       "       &#x27;OHE_Account Requires Verification&#x27;, &#x27;OHE_Autres_ComplianceIssue&#x27;,\n",
       "       &#x27;OHE_No Issue&#x27;, &#x27;OHE_Portfolio Manager Account Not Shared&#x27;],\n",
       "      dtype=&#x27;object&#x27;)</pre></div></div></div><div class=\"sk-serial\"><div class=\"sk-item\"><div class=\"sk-estimator sk-toggleable\"><input class=\"sk-toggleable__control sk-hidden--visually\" id=\"sk-estimator-id-42\" type=\"checkbox\" ><label for=\"sk-estimator-id-42\" class=\"sk-toggleable__label sk-toggleable__label-arrow\">StandardScaler</label><div class=\"sk-toggleable__content\"><pre>StandardScaler()</pre></div></div></div></div></div></div></div></div></div></div>"
      ],
      "text/plain": [
       "ColumnTransformer(transformers=[('standardscaler', StandardScaler(),\n",
       "                                 Index(['OSEBuildingID', 'DataYear', 'NumberofFloors', 'PropertyGFABuilding(s)',\n",
       "       'PropertyGFAParking', 'ENERGYSTARScore', 'SiteEUI(kBtu/sf)',\n",
       "       'SiteEnergyUseWN(kBtu)', 'SourceEUI(kBtu/sf)',\n",
       "       'LargestPropertyUseTypeGFA', 'Electricity(kBtu)', 'NaturalGas(kBtu)',\n",
       "       'GHGEmissionsIntensity', 'OHE_Campus',...\n",
       "       'OHE_Distribution Center', 'OHE_Hotel', 'OHE_K-12 School',\n",
       "       'OHE_Multifamily Housing', 'OHE_Non-Refrigerated Warehouse',\n",
       "       'OHE_Office', 'OHE_Other', 'OHE_Retail Store', 'OHE_Worship Facility',\n",
       "       'OHE_Autres_ComplianceStatus', 'OHE_Compliant', 'OHE_Not Compliant',\n",
       "       'OHE_Account Requires Verification', 'OHE_Autres_ComplianceIssue',\n",
       "       'OHE_No Issue', 'OHE_Portfolio Manager Account Not Shared'],\n",
       "      dtype='object'))])"
      ]
     },
     "execution_count": 153,
     "metadata": {},
     "output_type": "execute_result"
    }
   ],
   "source": [
    "preprocessor"
   ]
  },
  {
   "cell_type": "markdown",
   "id": "41b99d14-3681-4c94-92a8-5230cde8410d",
   "metadata": {},
   "source": [
    "### Régression linéaire"
   ]
  },
  {
   "cell_type": "code",
   "execution_count": 159,
   "id": "74af0e09-c4f6-4d0f-b8e2-fc0e5f6525fb",
   "metadata": {},
   "outputs": [
    {
     "name": "stdout",
     "output_type": "stream",
     "text": [
      "Score d'entrainement =  0.6749206403292407\n",
      "Score de la prédiction : 0.6821793424375386\n",
      "Ecart absolu moyen =  0.5703310783915237\n",
      "Racine carrée de l'erreur quadratique moyenne =  0.789820443405828\n",
      "Erreur absolue médiane =  0.4039713153593244\n"
     ]
    }
   ],
   "source": [
    "model = make_pipeline(preprocessor,LinearRegression())\n",
    "model.fit(X_train,Y_train)\n",
    "print(\"Score d'entrainement = \",model.score(X_train,Y_train))\n",
    "y_pred = model.predict(X_test)\n",
    "print(\"Score de la prédiction :\", model.score(X_test, Y_test)), \n",
    "print(\"Ecart absolu moyen = \",mean_absolute_error(Y_test,y_pred))\n",
    "print(\"Racine carrée de l'erreur quadratique moyenne = \",np.sqrt(mean_squared_error(Y_test,y_pred)))\n",
    "print(\"Erreur absolue médiane = \",median_absolute_error(Y_test,y_pred))"
   ]
  },
  {
   "cell_type": "markdown",
   "id": "c95581de-9885-4e42-9be2-55733b18a054",
   "metadata": {},
   "source": [
    "Le Score d'entrainement de **0.67** montre que **notre modèle de régression linéaire** est capable de bien d'apprendre les caractéristiques des données. Il est proche du score de la prédiction qui est de **0.68** qui est également significatif. Cela nous renseigne de la performance significative de notre modèle à se généraliser à de nouvelles données et de savoir  ..."
   ]
  },
  {
   "cell_type": "markdown",
   "id": "b48f48ca-74f2-45bf-9239-bc4c45cc3a93",
   "metadata": {},
   "source": [
    "##### Essayons d'évaluons le modèle par target pour voir si elle peut être plus performante"
   ]
  },
  {
   "cell_type": "code",
   "execution_count": 160,
   "id": "3da8409e-2047-4198-8fb3-ae2d605ffac8",
   "metadata": {},
   "outputs": [
    {
     "name": "stdout",
     "output_type": "stream",
     "text": [
      "TotalGHGEmissions\n",
      "Score d'entrainement =  0.7035316467913183\n",
      "Score de la prédiction : 0.7086085523242189\n",
      "Ecart absolu moyen =  0.6301365645814679\n",
      "Racine carrée de l'erreur quadratique moyenne =  0.8661402139514923\n",
      "Erreur absolue médiane =  0.44838186723589346\n",
      "___________________________________________________________________________\n",
      "SiteEnergyUse(kBtu)\n",
      "Score d'entrainement =  0.6463083894476762\n",
      "Score de la prédiction : 0.655745905052912\n",
      "Ecart absolu moyen =  0.5105504576999762\n",
      "Racine carrée de l'erreur quadratique moyenne =  0.705296422900386\n",
      "Erreur absolue médiane =  0.3601261753048366\n",
      "___________________________________________________________________________\n"
     ]
    }
   ],
   "source": [
    "for i in log_y.columns:\n",
    "    X_train, X_test, Y_train, Y_test = train_test_split(X, log_y[i], test_size=0.2, random_state=42)\n",
    "    model = make_pipeline(preprocessor,LinearRegression())\n",
    "    model.fit(X_train,Y_train)\n",
    "    print(i)\n",
    "    print(\"Score d'entrainement = \",model.score(X_train,Y_train))\n",
    "    y_pred = model.predict(X_test)\n",
    "    print(\"Score de la prédiction :\", model.score(X_test, Y_test)), \n",
    "    print(\"Ecart absolu moyen = \",mean_absolute_error(Y_test,y_pred))\n",
    "    print(\"Racine carrée de l'erreur quadratique moyenne = \",np.sqrt(mean_squared_error(Y_test,y_pred)))\n",
    "    print(\"Erreur absolue médiane = \",median_absolute_error(Y_test,y_pred))\n",
    "    print(\"_\"*75)"
   ]
  },
  {
   "cell_type": "markdown",
   "id": "24afe29b-d837-4c4a-af8d-7d7e2a68b7a6",
   "metadata": {},
   "source": [
    "En estimant le modèle de régression linéaire pour chaque target, on constate une amélioration nette des scores (d'entrainement, de la prédiction) pour la target **TotalGHGEmissions**. Par ailleurs, même si les scores ont légèrement baissé pour la target **SiteEnergyUse(kBtu)**, les MSE, RMSE, MAE ont également baissé. Cela permet de voir que  la performance du modèle s'améliore sur la target **TotalGHGEmissions**."
   ]
  },
  {
   "cell_type": "markdown",
   "id": "031bff75-75ba-49c5-a65d-48ddda841539",
   "metadata": {},
   "source": [
    "A présent testons différents modèles sur notre jeux de données afin de déterminer lequel est le meilleur. "
   ]
  },
  {
   "cell_type": "code",
   "execution_count": 171,
   "id": "a447251a-fe2e-452f-92ac-d3b9a5ecf1e5",
   "metadata": {},
   "outputs": [],
   "source": [
    "# Définition des différents modèles\n",
    "DiffModels = {\n",
    "    'RandomForestRegressor' : RandomForestRegressor(),\n",
    "    'XGBRegressor' : XGBRegressor(),\n",
    "    'SGDRegressor': SGDRegressor(),\n",
    "    'SVR': SVR(),\n",
    "    'LinearRegression' : LinearRegression(),\n",
    "    'Ridge' : Ridge(),\n",
    "    'Lasso' : Lasso(tol=0.2),\n",
    "    'ElasticNet' : ElasticNet(),\n",
    "}"
   ]
  },
  {
   "cell_type": "code",
   "execution_count": 174,
   "id": "6353f1da-3cb9-4c1b-949c-e4696f23bb41",
   "metadata": {},
   "outputs": [
    {
     "name": "stdout",
     "output_type": "stream",
     "text": [
      "Algorithme:  RandomForestRegressor\n",
      "Prédiction de la target  TotalGHGEmissions\n",
      "Score d'entrainement =  0.9937290488323055\n",
      "Score de la prédiction:  0.953448627371677\n",
      "MAE =  0.1584171750565311\n",
      "RMSE =  0.3393820491048474\n",
      "Median abs err =  0.02277651776477585\n",
      "\n",
      "**************************************************\n",
      "Prédiction de la target  SiteEnergyUse(kBtu)\n",
      "Score d'entrainement =  0.9917642018320453\n",
      "Score de la prédiction:  0.9416992096575869\n",
      "MAE =  0.1286901514606411\n",
      "RMSE =  0.2852649851263658\n",
      "Median abs err =  0.014168432765796268\n",
      "\n",
      "**************************************************\n",
      "===========================================================================\n",
      "Algorithme:  XGBRegressor\n",
      "Prédiction de la target  TotalGHGEmissions\n",
      "Score d'entrainement =  0.9910771750611255\n",
      "Score de la prédiction:  0.9556064036110825\n",
      "MAE =  0.18763100286668574\n",
      "RMSE =  0.3314231086213641\n",
      "Median abs err =  0.07582974356862271\n",
      "\n",
      "**************************************************\n",
      "Prédiction de la target  SiteEnergyUse(kBtu)\n",
      "Score d'entrainement =  0.9874142446218915\n",
      "Score de la prédiction:  0.9416558130672212\n",
      "MAE =  0.15125550841343766\n",
      "RMSE =  0.2853711348440027\n",
      "Median abs err =  0.04953786672667615\n",
      "\n",
      "**************************************************\n",
      "===========================================================================\n",
      "Algorithme:  SGDRegressor\n",
      "Prédiction de la target  TotalGHGEmissions\n",
      "Score d'entrainement =  -176968.16426725296\n",
      "Score de la prédiction:  -738757.4120490717\n",
      "MAE =  42.204545227483486\n",
      "RMSE =  1351.9911271767576\n",
      "Median abs err =  4.549548132626716\n",
      "\n",
      "**************************************************\n",
      "Prédiction de la target  SiteEnergyUse(kBtu)\n",
      "Score d'entrainement =  -9847139.84475768\n",
      "Score de la prédiction:  -40343370.28774876\n",
      "MAE =  242.58939476675562\n",
      "RMSE =  7504.078004791681\n",
      "Median abs err =  32.396113040585774\n",
      "\n",
      "**************************************************\n",
      "===========================================================================\n",
      "Algorithme:  SVR\n",
      "Prédiction de la target  TotalGHGEmissions\n",
      "Score d'entrainement =  0.8866023092913152\n",
      "Score de la prédiction:  0.8584366351039937\n",
      "MAE =  0.39052198770555097\n",
      "RMSE =  0.591831477947599\n",
      "Median abs err =  0.23317443989133668\n",
      "\n",
      "**************************************************\n",
      "Prédiction de la target  SiteEnergyUse(kBtu)\n",
      "Score d'entrainement =  0.8661290212784551\n",
      "Score de la prédiction:  0.8203965313534818\n",
      "MAE =  0.32062450108422114\n",
      "RMSE =  0.5006896410724717\n",
      "Median abs err =  0.1899991948820956\n",
      "\n",
      "**************************************************\n",
      "===========================================================================\n",
      "Algorithme:  LinearRegression\n",
      "Prédiction de la target  TotalGHGEmissions\n",
      "Score d'entrainement =  0.7015166013424677\n",
      "Score de la prédiction:  0.7172179184093312\n",
      "MAE =  0.6211621088523867\n",
      "RMSE =  0.8364665250314537\n",
      "Median abs err =  0.45769877327989095\n",
      "\n",
      "**************************************************\n",
      "Prédiction de la target  SiteEnergyUse(kBtu)\n",
      "Score d'entrainement =  0.6457658958034731\n",
      "Score de la prédiction:  0.6569377479473076\n",
      "MAE =  0.5029863350827736\n",
      "RMSE =  0.691986645889358\n",
      "Median abs err =  0.3617489570205059\n",
      "\n",
      "**************************************************\n",
      "===========================================================================\n",
      "Algorithme:  Ridge\n",
      "Prédiction de la target  TotalGHGEmissions\n",
      "Score d'entrainement =  0.7015165998106272\n",
      "Score de la prédiction:  0.7172142476609901\n",
      "MAE =  0.6211879747682514\n",
      "RMSE =  0.8364719540319896\n",
      "Median abs err =  0.45774849125493344\n",
      "\n",
      "**************************************************\n",
      "Prédiction de la target  SiteEnergyUse(kBtu)\n",
      "Score d'entrainement =  0.6457659013432152\n",
      "Score de la prédiction:  0.6569376554981603\n",
      "MAE =  0.5029802841854704\n",
      "RMSE =  0.6919867391283704\n",
      "Median abs err =  0.3616359748202136\n",
      "\n",
      "**************************************************\n",
      "===========================================================================\n",
      "Algorithme:  Lasso\n",
      "Prédiction de la target  TotalGHGEmissions\n",
      "Score d'entrainement =  0.04996791796507416\n",
      "Score de la prédiction:  0.051410894661883644\n",
      "MAE =  1.2621129083308242\n",
      "RMSE =  1.532010310353875\n",
      "Median abs err =  1.1763404119650003\n",
      "\n",
      "**************************************************\n",
      "Prédiction de la target  SiteEnergyUse(kBtu)\n",
      "Score d'entrainement =  0.0\n",
      "Score de la prédiction:  -9.687743059050291e-05\n",
      "MAE =  0.9096160922881518\n",
      "RMSE =  1.1814960715608696\n",
      "Median abs err =  0.7495114323622865\n",
      "\n",
      "**************************************************\n",
      "===========================================================================\n",
      "Algorithme:  ElasticNet\n",
      "Prédiction de la target  TotalGHGEmissions\n",
      "Score d'entrainement =  0.3955527036549159\n",
      "Score de la prédiction:  0.40747732752491994\n",
      "MAE =  0.9659951993831181\n",
      "RMSE =  1.2108075166233665\n",
      "Median abs err =  0.8725475330776316\n",
      "\n",
      "**************************************************\n",
      "Prédiction de la target  SiteEnergyUse(kBtu)\n",
      "Score d'entrainement =  0.23243230877050058\n",
      "Score de la prédiction:  0.23218866998584065\n",
      "MAE =  0.7838780744210649\n",
      "RMSE =  1.0352339463351359\n",
      "Median abs err =  0.5897826426816701\n",
      "\n",
      "**************************************************\n",
      "===========================================================================\n"
     ]
    }
   ],
   "source": [
    "##Resultats = []\n",
    "for nom_model, DModels in DiffModels.items():\n",
    "    print('Algorithme: ',nom_model)\n",
    "    for i in log_y.columns:\n",
    "        X_train, X_test, Y_train, Y_test = train_test_split(X, log_y[i], test_size=0.2, random_state=45)\n",
    "        model = make_pipeline(preprocessor,DModels)\n",
    "        model.fit(X_train,Y_train)\n",
    "        y_pred = model.predict(X_test)\n",
    "        print('Prédiction de la target ',i)\n",
    "        print('Score d\\'entrainement = ',model.score(X_train,Y_train))\n",
    "        print(\"Score de la prédiction: \",  model.score(X_test, Y_test))\n",
    "        mae = mean_absolute_error(Y_test,y_pred)\n",
    "        rmse = np.sqrt(mean_squared_error(Y_test,y_pred))\n",
    "        med_abs_err = median_absolute_error(Y_test,y_pred)\n",
    "        print(\"MAE = \", mae)        \n",
    "        print(\"RMSE = \",rmse)\n",
    "        print(\"Median abs err = \", med_abs_err)\n",
    "        print('')\n",
    "        ##Resultats.append([nom_model, i, model.score(X_test, Y_test), mae, rmse, med_abs_err])\n",
    "        print('*'*50)\n",
    "    print('='*75)"
   ]
  },
  {
   "cell_type": "markdown",
   "id": "3e352fda-675d-4b25-b132-603da77cb7a9",
   "metadata": {},
   "source": [
    "Par constat, les meilleurs modéles sont rangées dans l'ordre suivant :\n",
    "\n",
    "    1 - **RandomForestRegressor** : il a les scores de training et de test les plus élevés de tous les modèles testés. Ces scores sont respectivement (0.9937, 0.9919)->target1 et (0.9542, 0.9395)->target2\n",
    "    2 - **XGBRegressor**"
   ]
  },
  {
   "cell_type": "markdown",
   "id": "ff360f81-fa2c-4dee-8bda-78fcff1b703b",
   "metadata": {},
   "source": [
    "Dans la suite, nous essayerons d'optimiser les hyperparamètres du **RandomForestRegressor** qui est notre meilleur modèle. Mais puisque ce modèle est déja très performant (il a un R2 score très élevé et des erreurs très faibles), nous ferons en même temps le tuning des hyperparamètres du modèle **Ridge** afin de pouvoir véritablement observer les effet du tuning des hyperparamètres."
   ]
  },
  {
   "cell_type": "code",
   "execution_count": null,
   "id": "076fbf4c-6c11-4883-88a0-198f2bd7492d",
   "metadata": {},
   "outputs": [],
   "source": [
    "X_train, X_test, Y_train, Y_test = train_test_split(X, log_y, test_size=0.2, random_state=45)\n",
    "param_grid = {'n_estimators': [10, 50, 100, 200],\n",
    "             'max_depth' : [None, 5, 10, 15],\n",
    "             'min_samples_split': [2, 5, 10, 15],\n",
    "             'min_samples_leaf' : [1, 2, 4, 6]}\n",
    "rand_forest = RandomForestRegressor()\n",
    "grid_search = GridSearchCV(estimator = rand_forest, param_grid = param_grid, cv = 5, \n",
    "                           n_jobs = -1, verbose = 2)\n",
    "grid_search.fit(X_train, Y_train)\n",
    "print('Les meilleures paramètres pour les targets')\n",
    "print(grid_search.best_params_)\n",
    "print(\"*\"*80)"
   ]
  },
  {
   "cell_type": "code",
   "execution_count": null,
   "id": "d621915c-18b1-46fb-9402-1c40367754ec",
   "metadata": {},
   "outputs": [],
   "source": [
    "y_pred = grid_search.best_estimator_.predict(X_test)\n",
    "from sklearn.metrics import mean_squared_error as MSE\n",
    "rmse_test = np.sqrt(MSE(Y_test, y_pred))\n",
    "print(\"Test score: \", np.round(rmse_test, 2))\n",
    "print(y_pred)"
   ]
  },
  {
   "cell_type": "code",
   "execution_count": 184,
   "id": "aa3ffd46-4c0b-4da5-b13d-ba3ca6752932",
   "metadata": {},
   "outputs": [
    {
     "name": "stderr",
     "output_type": "stream",
     "text": [
      "C:\\Users\\HP\\anaconda3\\lib\\site-packages\\sklearn\\linear_model\\_ridge.py:216: LinAlgWarning: Ill-conditioned matrix (rcond=2.64699e-17): result may not be accurate.\n",
      "  return linalg.solve(A, Xy, assume_a=\"pos\", overwrite_a=True).T\n",
      "C:\\Users\\HP\\anaconda3\\lib\\site-packages\\sklearn\\linear_model\\_ridge.py:216: LinAlgWarning: Ill-conditioned matrix (rcond=2.68627e-17): result may not be accurate.\n",
      "  return linalg.solve(A, Xy, assume_a=\"pos\", overwrite_a=True).T\n",
      "C:\\Users\\HP\\anaconda3\\lib\\site-packages\\sklearn\\linear_model\\_ridge.py:216: LinAlgWarning: Ill-conditioned matrix (rcond=2.77428e-17): result may not be accurate.\n",
      "  return linalg.solve(A, Xy, assume_a=\"pos\", overwrite_a=True).T\n",
      "C:\\Users\\HP\\anaconda3\\lib\\site-packages\\sklearn\\linear_model\\_ridge.py:216: LinAlgWarning: Ill-conditioned matrix (rcond=2.70814e-17): result may not be accurate.\n",
      "  return linalg.solve(A, Xy, assume_a=\"pos\", overwrite_a=True).T\n",
      "C:\\Users\\HP\\anaconda3\\lib\\site-packages\\sklearn\\linear_model\\_ridge.py:216: LinAlgWarning: Ill-conditioned matrix (rcond=2.6482e-17): result may not be accurate.\n",
      "  return linalg.solve(A, Xy, assume_a=\"pos\", overwrite_a=True).T\n"
     ]
    },
    {
     "name": "stdout",
     "output_type": "stream",
     "text": [
      "{'alpha': 5}\n"
     ]
    }
   ],
   "source": [
    "# Définissez les valeurs que vous voulez tester pour l'hyperparamètre alpha\n",
    "X_train, X_test, Y_train, Y_test = train_test_split(X, log_y, test_size=0.2, random_state=45)\n",
    "param_grid = {'alpha': [0.1, 0.5, 1, 5, 10]}\n",
    "\n",
    "# Créez un modèle de Ridge\n",
    "model = Ridge()\n",
    "\n",
    "# Créez un objet GridSearchCV en spécifiant un scoring et en utilisant la validation croisée à 5 plis\n",
    "grid_search2 = GridSearchCV(model, param_grid, scoring='neg_mean_squared_error', cv=5)\n",
    "\n",
    "# Ajustez l'objet GridSearchCV au jeu de données d'entraînement\n",
    "grid_search2.fit(X_train, Y_train)\n",
    "\n",
    "# Affichez les hyperparamètres optimaux\n",
    "print(grid_search2.best_params_)\n"
   ]
  },
  {
   "cell_type": "code",
   "execution_count": 187,
   "id": "8ea7a1c9-99d3-4307-be3a-9583da86f1b4",
   "metadata": {},
   "outputs": [
    {
     "name": "stdout",
     "output_type": "stream",
     "text": [
      "Test score:  0.77\n",
      "[[ 3.32426098 14.91107144]\n",
      " [ 3.91721433 14.66510317]\n",
      " [ 5.15436529 14.87761474]\n",
      " ...\n",
      " [ 5.60073259 15.76344712]\n",
      " [ 2.9350079  13.62417948]\n",
      " [ 4.80931798 15.30643226]]\n"
     ]
    }
   ],
   "source": [
    "y_pred = grid_search2.best_estimator_.predict(X_test)\n",
    "from sklearn.metrics import mean_squared_error as MSE\n",
    "rmse_test = np.sqrt(MSE(Y_test, y_pred))\n",
    "print(\"Test score: \", np.round(rmse_test, 2))\n",
    "print(y_pred)"
   ]
  },
  {
   "cell_type": "markdown",
   "id": "93900048-20da-4640-a230-6157c7840e87",
   "metadata": {},
   "source": [
    "Définissons à présent un cross validation sur nos deux modèles"
   ]
  },
  {
   "cell_type": "code",
   "execution_count": null,
   "id": "881e6a68-6f28-45bc-bc04-317c25f319f7",
   "metadata": {},
   "outputs": [],
   "source": []
  }
 ],
 "metadata": {
  "kernelspec": {
   "display_name": "Python 3",
   "language": "python",
   "name": "python3"
  },
  "language_info": {
   "codemirror_mode": {
    "name": "ipython",
    "version": 3
   },
   "file_extension": ".py",
   "mimetype": "text/x-python",
   "name": "python",
   "nbconvert_exporter": "python",
   "pygments_lexer": "ipython3",
   "version": "3.8.8"
  }
 },
 "nbformat": 4,
 "nbformat_minor": 5
}
